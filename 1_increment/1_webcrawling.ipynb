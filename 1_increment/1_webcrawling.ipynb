{
 "cells": [
  {
   "metadata": {},
   "cell_type": "markdown",
   "source": "1. Get data",
   "id": "136af019043dd1b9"
  },
  {
   "cell_type": "code",
   "id": "initial_id",
   "metadata": {
    "collapsed": true,
    "ExecuteTime": {
     "end_time": "2025-07-14T19:38:31.406183Z",
     "start_time": "2025-07-14T19:38:31.288267Z"
    }
   },
   "source": [
    "# import all the URLs from list_of_all_html.py\n",
    "from helper.list_of_all_html import urls\n",
    "# additional imports\n",
    "import time, requests\n",
    "from bs4 import BeautifulSoup\n",
    "from pathlib import Path\n",
    "from tqdm.notebook import tqdm"
   ],
   "outputs": [],
   "execution_count": 1
  },
  {
   "metadata": {},
   "cell_type": "markdown",
   "source": "2. Write all the data from all URLs to a txt file",
   "id": "9310fc4c6f03592e"
  },
  {
   "metadata": {
    "ExecuteTime": {
     "end_time": "2025-07-14T19:38:31.411847Z",
     "start_time": "2025-07-14T19:38:31.409884Z"
    }
   },
   "cell_type": "code",
   "source": [
    "# ------- 3)  helper to strip HTML to text -------\n",
    "def extract_visible_text(html: str) -> str:\n",
    "    soup = BeautifulSoup(html, \"html.parser\")\n",
    "    for tag in soup([\"script\", \"style\", \"noscript\"]):\n",
    "        tag.decompose()\n",
    "    return \"\\n\".join(\n",
    "        line.strip() for line in soup.get_text(\"\\n\").splitlines() if line.strip()\n",
    "    )"
   ],
   "id": "39fe71eb6b2b8dd3",
   "outputs": [],
   "execution_count": 2
  },
  {
   "metadata": {
    "ExecuteTime": {
     "end_time": "2025-07-14T19:41:02.011392Z",
     "start_time": "2025-07-14T19:38:31.528642Z"
    }
   },
   "cell_type": "code",
   "source": [
    "def crawl_to_txt(urls, outfile: Path, delay=0.4):\n",
    "    print(f\"Writing → {outfile.resolve()}\")\n",
    "    with outfile.open(\"w\", encoding=\"utf-8\") as fh:\n",
    "        for url in tqdm(urls, unit=\"page\"):\n",
    "            try:\n",
    "                r = requests.get(url,\n",
    "                                 headers={\"User-Agent\": \"Mozilla/5.0\"},\n",
    "                                 timeout=15)\n",
    "                r.raise_for_status()\n",
    "                text = extract_visible_text(r.text)\n",
    "            except Exception as exc:\n",
    "                text = f\"[!!] Could not fetch {url} – {exc}\"\n",
    "            fh.write(f\"\\n\\n# {url}\\n\\n{text}\\n\")\n",
    "            time.sleep(delay)       # polite pause\n",
    "\n",
    "outfile = Path(\"data/all_text.txt\")\n",
    "crawl_to_txt(urls, outfile)\n",
    "\n",
    "print(\"✅ Done!\")"
   ],
   "id": "b4bb0c5d18189835",
   "outputs": [
    {
     "name": "stdout",
     "output_type": "stream",
     "text": [
      "Writing → /Users/jakobeilts/Development/Masterarbeit/1_increment/data/all_text.txt\n"
     ]
    },
    {
     "data": {
      "text/plain": [
       "  0%|          | 0/258 [00:00<?, ?page/s]"
      ],
      "application/vnd.jupyter.widget-view+json": {
       "version_major": 2,
       "version_minor": 0,
       "model_id": "f2116a4c21cc4142a4003b9108227e39"
      }
     },
     "metadata": {},
     "output_type": "display_data"
    },
    {
     "name": "stdout",
     "output_type": "stream",
     "text": [
      "✅ Done!\n"
     ]
    }
   ],
   "execution_count": 3
  },
  {
   "metadata": {},
   "cell_type": "markdown",
   "source": "# Alternative! Wahrscheinlich besser, wegen den Quellen:",
   "id": "480d1aa144630f60"
  },
  {
   "metadata": {
    "ExecuteTime": {
     "end_time": "2025-07-15T13:47:35.110659Z",
     "start_time": "2025-07-15T13:47:34.936872Z"
    }
   },
   "cell_type": "code",
   "source": [
    "# crawler.py\n",
    "import time, requests\n",
    "from bs4 import BeautifulSoup\n",
    "from langchain.docstore.document import Document\n",
    "\n",
    "def extract_visible_text(html: str) -> str:\n",
    "    soup = BeautifulSoup(html, \"html.parser\")\n",
    "    for tag in soup([\"script\", \"style\", \"noscript\"]):\n",
    "        tag.decompose()\n",
    "    return \"\\n\".join(line.strip()\n",
    "                     for line in soup.get_text(\"\\n\").splitlines()\n",
    "                     if line.strip())\n",
    "\n",
    "def crawl_urls(urls, delay=0.4) -> list[Document]:\n",
    "    docs: list[Document] = []\n",
    "    for url in urls:\n",
    "        try:\n",
    "            r = requests.get(url,\n",
    "                             headers={\"User-Agent\": \"Mozilla/5.0\"},\n",
    "                             timeout=15)\n",
    "            r.raise_for_status()\n",
    "            text = extract_visible_text(r.text)\n",
    "            docs.append(Document(page_content=text,\n",
    "                                 metadata={\"url\": url}))\n",
    "        except Exception as exc:\n",
    "            print(f\"[!!] {url}: {exc}\")\n",
    "        time.sleep(delay)\n",
    "    return docs"
   ],
   "id": "5691ce4ade878863",
   "outputs": [],
   "execution_count": 1
  },
  {
   "metadata": {},
   "cell_type": "markdown",
   "source": "## jetzt chunking mit Metadaten-Vererbung",
   "id": "327fdd23e7c44c65"
  },
  {
   "metadata": {
    "ExecuteTime": {
     "end_time": "2025-07-15T13:54:33.587707Z",
     "start_time": "2025-07-15T13:48:17.387427Z"
    }
   },
   "cell_type": "code",
   "source": [
    "# build_index.py\n",
    "from langchain.text_splitter import RecursiveCharacterTextSplitter\n",
    "from langchain.vectorstores import FAISS\n",
    "from helper.list_of_all_html import urls\n",
    "from helper.academicCloudEmbeddings import AcademicCloudEmbeddings\n",
    "import streamlit as st\n",
    "\n",
    "# 1) Seiten holen → Documents\n",
    "docs = crawl_urls(urls, delay=0.4)\n",
    "\n",
    "# 2) splitten – jede URL bleibt als metadata erhalten\n",
    "splitter = RecursiveCharacterTextSplitter(\n",
    "    chunk_size=1000,\n",
    "    chunk_overlap=200,\n",
    "    separators=[\"\\n\\n\", \"\\n\", \" \", \"\"],\n",
    ")\n",
    "chunks = splitter.split_documents(docs)\n",
    "\n",
    "# 3) Embeddings und FAISS\n",
    "embedder = AcademicCloudEmbeddings(\n",
    "    api_key=st.secrets[\"GWDG_API_KEY\"],\n",
    "    url=st.secrets[\"BASE_URL_EMBEDDINGS\"],\n",
    ")\n",
    "store = FAISS.from_documents(chunks, embedder)\n",
    "store.save_local(\"faiss_wiki_index\")"
   ],
   "id": "c819a4b5e2279d0a",
   "outputs": [
    {
     "ename": "KeyboardInterrupt",
     "evalue": "",
     "output_type": "error",
     "traceback": [
      "\u001B[31m---------------------------------------------------------------------------\u001B[39m",
      "\u001B[31mKeyboardInterrupt\u001B[39m                         Traceback (most recent call last)",
      "\u001B[36mCell\u001B[39m\u001B[36m \u001B[39m\u001B[32mIn[2]\u001B[39m\u001B[32m, line 24\u001B[39m\n\u001B[32m     19\u001B[39m \u001B[38;5;66;03m# 3) Embeddings und FAISS\u001B[39;00m\n\u001B[32m     20\u001B[39m embedder = AcademicCloudEmbeddings(\n\u001B[32m     21\u001B[39m     api_key=st.secrets[\u001B[33m\"\u001B[39m\u001B[33mGWDG_API_KEY\u001B[39m\u001B[33m\"\u001B[39m],\n\u001B[32m     22\u001B[39m     url=st.secrets[\u001B[33m\"\u001B[39m\u001B[33mBASE_URL_EMBEDDINGS\u001B[39m\u001B[33m\"\u001B[39m],\n\u001B[32m     23\u001B[39m )\n\u001B[32m---> \u001B[39m\u001B[32m24\u001B[39m store = \u001B[43mFAISS\u001B[49m\u001B[43m.\u001B[49m\u001B[43mfrom_documents\u001B[49m\u001B[43m(\u001B[49m\u001B[43mchunks\u001B[49m\u001B[43m,\u001B[49m\u001B[43m \u001B[49m\u001B[43membedder\u001B[49m\u001B[43m)\u001B[49m\n\u001B[32m     25\u001B[39m store.save_local(\u001B[33m\"\u001B[39m\u001B[33mfaiss_wiki_index\u001B[39m\u001B[33m\"\u001B[39m)\n",
      "\u001B[36mFile \u001B[39m\u001B[32m~/Development/Masterarbeit/.venv/lib/python3.11/site-packages/langchain_core/vectorstores/base.py:848\u001B[39m, in \u001B[36mVectorStore.from_documents\u001B[39m\u001B[34m(cls, documents, embedding, **kwargs)\u001B[39m\n\u001B[32m    845\u001B[39m     \u001B[38;5;28;01mif\u001B[39;00m \u001B[38;5;28many\u001B[39m(ids):\n\u001B[32m    846\u001B[39m         kwargs[\u001B[33m\"\u001B[39m\u001B[33mids\u001B[39m\u001B[33m\"\u001B[39m] = ids\n\u001B[32m--> \u001B[39m\u001B[32m848\u001B[39m \u001B[38;5;28;01mreturn\u001B[39;00m \u001B[38;5;28;43mcls\u001B[39;49m\u001B[43m.\u001B[49m\u001B[43mfrom_texts\u001B[49m\u001B[43m(\u001B[49m\u001B[43mtexts\u001B[49m\u001B[43m,\u001B[49m\u001B[43m \u001B[49m\u001B[43membedding\u001B[49m\u001B[43m,\u001B[49m\u001B[43m \u001B[49m\u001B[43mmetadatas\u001B[49m\u001B[43m=\u001B[49m\u001B[43mmetadatas\u001B[49m\u001B[43m,\u001B[49m\u001B[43m \u001B[49m\u001B[43m*\u001B[49m\u001B[43m*\u001B[49m\u001B[43mkwargs\u001B[49m\u001B[43m)\u001B[49m\n",
      "\u001B[36mFile \u001B[39m\u001B[32m~/Development/Masterarbeit/.venv/lib/python3.11/site-packages/langchain_community/vectorstores/faiss.py:1043\u001B[39m, in \u001B[36mFAISS.from_texts\u001B[39m\u001B[34m(cls, texts, embedding, metadatas, ids, **kwargs)\u001B[39m\n\u001B[32m   1016\u001B[39m \u001B[38;5;129m@classmethod\u001B[39m\n\u001B[32m   1017\u001B[39m \u001B[38;5;28;01mdef\u001B[39;00m\u001B[38;5;250m \u001B[39m\u001B[34mfrom_texts\u001B[39m(\n\u001B[32m   1018\u001B[39m     \u001B[38;5;28mcls\u001B[39m,\n\u001B[32m   (...)\u001B[39m\u001B[32m   1023\u001B[39m     **kwargs: Any,\n\u001B[32m   1024\u001B[39m ) -> FAISS:\n\u001B[32m   1025\u001B[39m \u001B[38;5;250m    \u001B[39m\u001B[33;03m\"\"\"Construct FAISS wrapper from raw documents.\u001B[39;00m\n\u001B[32m   1026\u001B[39m \n\u001B[32m   1027\u001B[39m \u001B[33;03m    This is a user friendly interface that:\u001B[39;00m\n\u001B[32m   (...)\u001B[39m\u001B[32m   1041\u001B[39m \u001B[33;03m            faiss = FAISS.from_texts(texts, embeddings)\u001B[39;00m\n\u001B[32m   1042\u001B[39m \u001B[33;03m    \"\"\"\u001B[39;00m\n\u001B[32m-> \u001B[39m\u001B[32m1043\u001B[39m     embeddings = \u001B[43membedding\u001B[49m\u001B[43m.\u001B[49m\u001B[43membed_documents\u001B[49m\u001B[43m(\u001B[49m\u001B[43mtexts\u001B[49m\u001B[43m)\u001B[49m\n\u001B[32m   1044\u001B[39m     \u001B[38;5;28;01mreturn\u001B[39;00m \u001B[38;5;28mcls\u001B[39m.__from(\n\u001B[32m   1045\u001B[39m         texts,\n\u001B[32m   1046\u001B[39m         embeddings,\n\u001B[32m   (...)\u001B[39m\u001B[32m   1050\u001B[39m         **kwargs,\n\u001B[32m   1051\u001B[39m     )\n",
      "\u001B[36mFile \u001B[39m\u001B[32m~/Development/Masterarbeit/helper/academicCloudEmbeddings.py:46\u001B[39m, in \u001B[36mAcademicCloudEmbeddings.embed_documents\u001B[39m\u001B[34m(self, texts)\u001B[39m\n\u001B[32m     44\u001B[39m \u001B[38;5;28;01mdef\u001B[39;00m\u001B[38;5;250m \u001B[39m\u001B[34membed_documents\u001B[39m(\u001B[38;5;28mself\u001B[39m, texts):\n\u001B[32m     45\u001B[39m     \u001B[38;5;66;03m# NO instruction on the document side\u001B[39;00m\n\u001B[32m---> \u001B[39m\u001B[32m46\u001B[39m     \u001B[38;5;28;01mreturn\u001B[39;00m \u001B[38;5;28;43mself\u001B[39;49m\u001B[43m.\u001B[49m\u001B[43m_embed\u001B[49m\u001B[43m(\u001B[49m\u001B[43mtexts\u001B[49m\u001B[43m)\u001B[49m\n",
      "\u001B[36mFile \u001B[39m\u001B[32m~/Development/Masterarbeit/helper/academicCloudEmbeddings.py:65\u001B[39m, in \u001B[36mAcademicCloudEmbeddings._embed\u001B[39m\u001B[34m(self, texts)\u001B[39m\n\u001B[32m     56\u001B[39m headers = {\n\u001B[32m     57\u001B[39m     \u001B[33m\"\u001B[39m\u001B[33mAuthorization\u001B[39m\u001B[33m\"\u001B[39m: \u001B[33mf\u001B[39m\u001B[33m\"\u001B[39m\u001B[33mBearer \u001B[39m\u001B[38;5;132;01m{\u001B[39;00m\u001B[38;5;28mself\u001B[39m.api_key\u001B[38;5;132;01m}\u001B[39;00m\u001B[33m\"\u001B[39m,\n\u001B[32m     58\u001B[39m     \u001B[33m\"\u001B[39m\u001B[33mContent-Type\u001B[39m\u001B[33m\"\u001B[39m:  \u001B[33m\"\u001B[39m\u001B[33mapplication/json\u001B[39m\u001B[33m\"\u001B[39m,\n\u001B[32m     59\u001B[39m }\n\u001B[32m     60\u001B[39m payload  = {\n\u001B[32m     61\u001B[39m     \u001B[33m\"\u001B[39m\u001B[33minput\u001B[39m\u001B[33m\"\u001B[39m:           texts,\n\u001B[32m     62\u001B[39m     \u001B[33m\"\u001B[39m\u001B[33mmodel\u001B[39m\u001B[33m\"\u001B[39m:           \u001B[38;5;28mself\u001B[39m.model,\n\u001B[32m     63\u001B[39m     \u001B[33m\"\u001B[39m\u001B[33mencoding_format\u001B[39m\u001B[33m\"\u001B[39m: \u001B[33m\"\u001B[39m\u001B[33mfloat\u001B[39m\u001B[33m\"\u001B[39m,\n\u001B[32m     64\u001B[39m }\n\u001B[32m---> \u001B[39m\u001B[32m65\u001B[39m resp = \u001B[43mrequests\u001B[49m\u001B[43m.\u001B[49m\u001B[43mpost\u001B[49m\u001B[43m(\u001B[49m\u001B[38;5;28;43mself\u001B[39;49m\u001B[43m.\u001B[49m\u001B[43murl\u001B[49m\u001B[43m,\u001B[49m\u001B[43m \u001B[49m\u001B[43mheaders\u001B[49m\u001B[43m=\u001B[49m\u001B[43mheaders\u001B[49m\u001B[43m,\u001B[49m\u001B[43m \u001B[49m\u001B[43mjson\u001B[49m\u001B[43m=\u001B[49m\u001B[43mpayload\u001B[49m\u001B[43m)\u001B[49m\n\u001B[32m     66\u001B[39m resp.raise_for_status()\n\u001B[32m     67\u001B[39m \u001B[38;5;28;01mreturn\u001B[39;00m [np.array(d[\u001B[33m\"\u001B[39m\u001B[33membedding\u001B[39m\u001B[33m\"\u001B[39m]) \u001B[38;5;28;01mfor\u001B[39;00m d \u001B[38;5;129;01min\u001B[39;00m resp.json()[\u001B[33m\"\u001B[39m\u001B[33mdata\u001B[39m\u001B[33m\"\u001B[39m]]\n",
      "\u001B[36mFile \u001B[39m\u001B[32m~/Development/Masterarbeit/.venv/lib/python3.11/site-packages/requests/api.py:115\u001B[39m, in \u001B[36mpost\u001B[39m\u001B[34m(url, data, json, **kwargs)\u001B[39m\n\u001B[32m    103\u001B[39m \u001B[38;5;28;01mdef\u001B[39;00m\u001B[38;5;250m \u001B[39m\u001B[34mpost\u001B[39m(url, data=\u001B[38;5;28;01mNone\u001B[39;00m, json=\u001B[38;5;28;01mNone\u001B[39;00m, **kwargs):\n\u001B[32m    104\u001B[39m \u001B[38;5;250m    \u001B[39m\u001B[33mr\u001B[39m\u001B[33;03m\"\"\"Sends a POST request.\u001B[39;00m\n\u001B[32m    105\u001B[39m \n\u001B[32m    106\u001B[39m \u001B[33;03m    :param url: URL for the new :class:`Request` object.\u001B[39;00m\n\u001B[32m   (...)\u001B[39m\u001B[32m    112\u001B[39m \u001B[33;03m    :rtype: requests.Response\u001B[39;00m\n\u001B[32m    113\u001B[39m \u001B[33;03m    \"\"\"\u001B[39;00m\n\u001B[32m--> \u001B[39m\u001B[32m115\u001B[39m     \u001B[38;5;28;01mreturn\u001B[39;00m \u001B[43mrequest\u001B[49m\u001B[43m(\u001B[49m\u001B[33;43m\"\u001B[39;49m\u001B[33;43mpost\u001B[39;49m\u001B[33;43m\"\u001B[39;49m\u001B[43m,\u001B[49m\u001B[43m \u001B[49m\u001B[43murl\u001B[49m\u001B[43m,\u001B[49m\u001B[43m \u001B[49m\u001B[43mdata\u001B[49m\u001B[43m=\u001B[49m\u001B[43mdata\u001B[49m\u001B[43m,\u001B[49m\u001B[43m \u001B[49m\u001B[43mjson\u001B[49m\u001B[43m=\u001B[49m\u001B[43mjson\u001B[49m\u001B[43m,\u001B[49m\u001B[43m \u001B[49m\u001B[43m*\u001B[49m\u001B[43m*\u001B[49m\u001B[43mkwargs\u001B[49m\u001B[43m)\u001B[49m\n",
      "\u001B[36mFile \u001B[39m\u001B[32m~/Development/Masterarbeit/.venv/lib/python3.11/site-packages/requests/api.py:59\u001B[39m, in \u001B[36mrequest\u001B[39m\u001B[34m(method, url, **kwargs)\u001B[39m\n\u001B[32m     55\u001B[39m \u001B[38;5;66;03m# By using the 'with' statement we are sure the session is closed, thus we\u001B[39;00m\n\u001B[32m     56\u001B[39m \u001B[38;5;66;03m# avoid leaving sockets open which can trigger a ResourceWarning in some\u001B[39;00m\n\u001B[32m     57\u001B[39m \u001B[38;5;66;03m# cases, and look like a memory leak in others.\u001B[39;00m\n\u001B[32m     58\u001B[39m \u001B[38;5;28;01mwith\u001B[39;00m sessions.Session() \u001B[38;5;28;01mas\u001B[39;00m session:\n\u001B[32m---> \u001B[39m\u001B[32m59\u001B[39m     \u001B[38;5;28;01mreturn\u001B[39;00m \u001B[43msession\u001B[49m\u001B[43m.\u001B[49m\u001B[43mrequest\u001B[49m\u001B[43m(\u001B[49m\u001B[43mmethod\u001B[49m\u001B[43m=\u001B[49m\u001B[43mmethod\u001B[49m\u001B[43m,\u001B[49m\u001B[43m \u001B[49m\u001B[43murl\u001B[49m\u001B[43m=\u001B[49m\u001B[43murl\u001B[49m\u001B[43m,\u001B[49m\u001B[43m \u001B[49m\u001B[43m*\u001B[49m\u001B[43m*\u001B[49m\u001B[43mkwargs\u001B[49m\u001B[43m)\u001B[49m\n",
      "\u001B[36mFile \u001B[39m\u001B[32m~/Development/Masterarbeit/.venv/lib/python3.11/site-packages/requests/sessions.py:589\u001B[39m, in \u001B[36mSession.request\u001B[39m\u001B[34m(self, method, url, params, data, headers, cookies, files, auth, timeout, allow_redirects, proxies, hooks, stream, verify, cert, json)\u001B[39m\n\u001B[32m    584\u001B[39m send_kwargs = {\n\u001B[32m    585\u001B[39m     \u001B[33m\"\u001B[39m\u001B[33mtimeout\u001B[39m\u001B[33m\"\u001B[39m: timeout,\n\u001B[32m    586\u001B[39m     \u001B[33m\"\u001B[39m\u001B[33mallow_redirects\u001B[39m\u001B[33m\"\u001B[39m: allow_redirects,\n\u001B[32m    587\u001B[39m }\n\u001B[32m    588\u001B[39m send_kwargs.update(settings)\n\u001B[32m--> \u001B[39m\u001B[32m589\u001B[39m resp = \u001B[38;5;28;43mself\u001B[39;49m\u001B[43m.\u001B[49m\u001B[43msend\u001B[49m\u001B[43m(\u001B[49m\u001B[43mprep\u001B[49m\u001B[43m,\u001B[49m\u001B[43m \u001B[49m\u001B[43m*\u001B[49m\u001B[43m*\u001B[49m\u001B[43msend_kwargs\u001B[49m\u001B[43m)\u001B[49m\n\u001B[32m    591\u001B[39m \u001B[38;5;28;01mreturn\u001B[39;00m resp\n",
      "\u001B[36mFile \u001B[39m\u001B[32m~/Development/Masterarbeit/.venv/lib/python3.11/site-packages/requests/sessions.py:746\u001B[39m, in \u001B[36mSession.send\u001B[39m\u001B[34m(self, request, **kwargs)\u001B[39m\n\u001B[32m    743\u001B[39m         \u001B[38;5;28;01mpass\u001B[39;00m\n\u001B[32m    745\u001B[39m \u001B[38;5;28;01mif\u001B[39;00m \u001B[38;5;129;01mnot\u001B[39;00m stream:\n\u001B[32m--> \u001B[39m\u001B[32m746\u001B[39m     \u001B[43mr\u001B[49m\u001B[43m.\u001B[49m\u001B[43mcontent\u001B[49m\n\u001B[32m    748\u001B[39m \u001B[38;5;28;01mreturn\u001B[39;00m r\n",
      "\u001B[36mFile \u001B[39m\u001B[32m~/Development/Masterarbeit/.venv/lib/python3.11/site-packages/requests/models.py:902\u001B[39m, in \u001B[36mResponse.content\u001B[39m\u001B[34m(self)\u001B[39m\n\u001B[32m    900\u001B[39m         \u001B[38;5;28mself\u001B[39m._content = \u001B[38;5;28;01mNone\u001B[39;00m\n\u001B[32m    901\u001B[39m     \u001B[38;5;28;01melse\u001B[39;00m:\n\u001B[32m--> \u001B[39m\u001B[32m902\u001B[39m         \u001B[38;5;28mself\u001B[39m._content = \u001B[33mb\u001B[39m\u001B[33m\"\u001B[39m\u001B[33m\"\u001B[39m.join(\u001B[38;5;28mself\u001B[39m.iter_content(CONTENT_CHUNK_SIZE)) \u001B[38;5;129;01mor\u001B[39;00m \u001B[33mb\u001B[39m\u001B[33m\"\u001B[39m\u001B[33m\"\u001B[39m\n\u001B[32m    904\u001B[39m \u001B[38;5;28mself\u001B[39m._content_consumed = \u001B[38;5;28;01mTrue\u001B[39;00m\n\u001B[32m    905\u001B[39m \u001B[38;5;66;03m# don't need to release the connection; that's been handled by urllib3\u001B[39;00m\n\u001B[32m    906\u001B[39m \u001B[38;5;66;03m# since we exhausted the data.\u001B[39;00m\n",
      "\u001B[36mFile \u001B[39m\u001B[32m~/Development/Masterarbeit/.venv/lib/python3.11/site-packages/requests/models.py:820\u001B[39m, in \u001B[36mResponse.iter_content.<locals>.generate\u001B[39m\u001B[34m()\u001B[39m\n\u001B[32m    818\u001B[39m \u001B[38;5;28;01mif\u001B[39;00m \u001B[38;5;28mhasattr\u001B[39m(\u001B[38;5;28mself\u001B[39m.raw, \u001B[33m\"\u001B[39m\u001B[33mstream\u001B[39m\u001B[33m\"\u001B[39m):\n\u001B[32m    819\u001B[39m     \u001B[38;5;28;01mtry\u001B[39;00m:\n\u001B[32m--> \u001B[39m\u001B[32m820\u001B[39m         \u001B[38;5;28;01myield from\u001B[39;00m \u001B[38;5;28mself\u001B[39m.raw.stream(chunk_size, decode_content=\u001B[38;5;28;01mTrue\u001B[39;00m)\n\u001B[32m    821\u001B[39m     \u001B[38;5;28;01mexcept\u001B[39;00m ProtocolError \u001B[38;5;28;01mas\u001B[39;00m e:\n\u001B[32m    822\u001B[39m         \u001B[38;5;28;01mraise\u001B[39;00m ChunkedEncodingError(e)\n",
      "\u001B[36mFile \u001B[39m\u001B[32m~/Development/Masterarbeit/.venv/lib/python3.11/site-packages/urllib3/response.py:1088\u001B[39m, in \u001B[36mHTTPResponse.stream\u001B[39m\u001B[34m(self, amt, decode_content)\u001B[39m\n\u001B[32m   1072\u001B[39m \u001B[38;5;250m\u001B[39m\u001B[33;03m\"\"\"\u001B[39;00m\n\u001B[32m   1073\u001B[39m \u001B[33;03mA generator wrapper for the read() method. A call will block until\u001B[39;00m\n\u001B[32m   1074\u001B[39m \u001B[33;03m``amt`` bytes have been read from the connection or until the\u001B[39;00m\n\u001B[32m   (...)\u001B[39m\u001B[32m   1085\u001B[39m \u001B[33;03m    'content-encoding' header.\u001B[39;00m\n\u001B[32m   1086\u001B[39m \u001B[33;03m\"\"\"\u001B[39;00m\n\u001B[32m   1087\u001B[39m \u001B[38;5;28;01mif\u001B[39;00m \u001B[38;5;28mself\u001B[39m.chunked \u001B[38;5;129;01mand\u001B[39;00m \u001B[38;5;28mself\u001B[39m.supports_chunked_reads():\n\u001B[32m-> \u001B[39m\u001B[32m1088\u001B[39m     \u001B[38;5;28;01myield from\u001B[39;00m \u001B[38;5;28mself\u001B[39m.read_chunked(amt, decode_content=decode_content)\n\u001B[32m   1089\u001B[39m \u001B[38;5;28;01melse\u001B[39;00m:\n\u001B[32m   1090\u001B[39m     \u001B[38;5;28;01mwhile\u001B[39;00m \u001B[38;5;129;01mnot\u001B[39;00m is_fp_closed(\u001B[38;5;28mself\u001B[39m._fp) \u001B[38;5;129;01mor\u001B[39;00m \u001B[38;5;28mlen\u001B[39m(\u001B[38;5;28mself\u001B[39m._decoded_buffer) > \u001B[32m0\u001B[39m:\n",
      "\u001B[36mFile \u001B[39m\u001B[32m~/Development/Masterarbeit/.venv/lib/python3.11/site-packages/urllib3/response.py:1248\u001B[39m, in \u001B[36mHTTPResponse.read_chunked\u001B[39m\u001B[34m(self, amt, decode_content)\u001B[39m\n\u001B[32m   1245\u001B[39m     amt = \u001B[38;5;28;01mNone\u001B[39;00m\n\u001B[32m   1247\u001B[39m \u001B[38;5;28;01mwhile\u001B[39;00m \u001B[38;5;28;01mTrue\u001B[39;00m:\n\u001B[32m-> \u001B[39m\u001B[32m1248\u001B[39m     \u001B[38;5;28;43mself\u001B[39;49m\u001B[43m.\u001B[49m\u001B[43m_update_chunk_length\u001B[49m\u001B[43m(\u001B[49m\u001B[43m)\u001B[49m\n\u001B[32m   1249\u001B[39m     \u001B[38;5;28;01mif\u001B[39;00m \u001B[38;5;28mself\u001B[39m.chunk_left == \u001B[32m0\u001B[39m:\n\u001B[32m   1250\u001B[39m         \u001B[38;5;28;01mbreak\u001B[39;00m\n",
      "\u001B[36mFile \u001B[39m\u001B[32m~/Development/Masterarbeit/.venv/lib/python3.11/site-packages/urllib3/response.py:1167\u001B[39m, in \u001B[36mHTTPResponse._update_chunk_length\u001B[39m\u001B[34m(self)\u001B[39m\n\u001B[32m   1165\u001B[39m \u001B[38;5;28;01mif\u001B[39;00m \u001B[38;5;28mself\u001B[39m.chunk_left \u001B[38;5;129;01mis\u001B[39;00m \u001B[38;5;129;01mnot\u001B[39;00m \u001B[38;5;28;01mNone\u001B[39;00m:\n\u001B[32m   1166\u001B[39m     \u001B[38;5;28;01mreturn\u001B[39;00m \u001B[38;5;28;01mNone\u001B[39;00m\n\u001B[32m-> \u001B[39m\u001B[32m1167\u001B[39m line = \u001B[38;5;28mself\u001B[39m._fp.fp.readline()  \u001B[38;5;66;03m# type: ignore[union-attr]\u001B[39;00m\n\u001B[32m   1168\u001B[39m line = line.split(\u001B[33mb\u001B[39m\u001B[33m\"\u001B[39m\u001B[33m;\u001B[39m\u001B[33m\"\u001B[39m, \u001B[32m1\u001B[39m)[\u001B[32m0\u001B[39m]\n\u001B[32m   1169\u001B[39m \u001B[38;5;28;01mtry\u001B[39;00m:\n",
      "\u001B[36mFile \u001B[39m\u001B[32m~/.pyenv/versions/3.11.6/lib/python3.11/socket.py:706\u001B[39m, in \u001B[36mSocketIO.readinto\u001B[39m\u001B[34m(self, b)\u001B[39m\n\u001B[32m    704\u001B[39m \u001B[38;5;28;01mwhile\u001B[39;00m \u001B[38;5;28;01mTrue\u001B[39;00m:\n\u001B[32m    705\u001B[39m     \u001B[38;5;28;01mtry\u001B[39;00m:\n\u001B[32m--> \u001B[39m\u001B[32m706\u001B[39m         \u001B[38;5;28;01mreturn\u001B[39;00m \u001B[38;5;28;43mself\u001B[39;49m\u001B[43m.\u001B[49m\u001B[43m_sock\u001B[49m\u001B[43m.\u001B[49m\u001B[43mrecv_into\u001B[49m\u001B[43m(\u001B[49m\u001B[43mb\u001B[49m\u001B[43m)\u001B[49m\n\u001B[32m    707\u001B[39m     \u001B[38;5;28;01mexcept\u001B[39;00m timeout:\n\u001B[32m    708\u001B[39m         \u001B[38;5;28mself\u001B[39m._timeout_occurred = \u001B[38;5;28;01mTrue\u001B[39;00m\n",
      "\u001B[36mFile \u001B[39m\u001B[32m~/.pyenv/versions/3.11.6/lib/python3.11/ssl.py:1311\u001B[39m, in \u001B[36mSSLSocket.recv_into\u001B[39m\u001B[34m(self, buffer, nbytes, flags)\u001B[39m\n\u001B[32m   1307\u001B[39m     \u001B[38;5;28;01mif\u001B[39;00m flags != \u001B[32m0\u001B[39m:\n\u001B[32m   1308\u001B[39m         \u001B[38;5;28;01mraise\u001B[39;00m \u001B[38;5;167;01mValueError\u001B[39;00m(\n\u001B[32m   1309\u001B[39m           \u001B[33m\"\u001B[39m\u001B[33mnon-zero flags not allowed in calls to recv_into() on \u001B[39m\u001B[38;5;132;01m%s\u001B[39;00m\u001B[33m\"\u001B[39m %\n\u001B[32m   1310\u001B[39m           \u001B[38;5;28mself\u001B[39m.\u001B[34m__class__\u001B[39m)\n\u001B[32m-> \u001B[39m\u001B[32m1311\u001B[39m     \u001B[38;5;28;01mreturn\u001B[39;00m \u001B[38;5;28;43mself\u001B[39;49m\u001B[43m.\u001B[49m\u001B[43mread\u001B[49m\u001B[43m(\u001B[49m\u001B[43mnbytes\u001B[49m\u001B[43m,\u001B[49m\u001B[43m \u001B[49m\u001B[43mbuffer\u001B[49m\u001B[43m)\u001B[49m\n\u001B[32m   1312\u001B[39m \u001B[38;5;28;01melse\u001B[39;00m:\n\u001B[32m   1313\u001B[39m     \u001B[38;5;28;01mreturn\u001B[39;00m \u001B[38;5;28msuper\u001B[39m().recv_into(buffer, nbytes, flags)\n",
      "\u001B[36mFile \u001B[39m\u001B[32m~/.pyenv/versions/3.11.6/lib/python3.11/ssl.py:1167\u001B[39m, in \u001B[36mSSLSocket.read\u001B[39m\u001B[34m(self, len, buffer)\u001B[39m\n\u001B[32m   1165\u001B[39m \u001B[38;5;28;01mtry\u001B[39;00m:\n\u001B[32m   1166\u001B[39m     \u001B[38;5;28;01mif\u001B[39;00m buffer \u001B[38;5;129;01mis\u001B[39;00m \u001B[38;5;129;01mnot\u001B[39;00m \u001B[38;5;28;01mNone\u001B[39;00m:\n\u001B[32m-> \u001B[39m\u001B[32m1167\u001B[39m         \u001B[38;5;28;01mreturn\u001B[39;00m \u001B[38;5;28;43mself\u001B[39;49m\u001B[43m.\u001B[49m\u001B[43m_sslobj\u001B[49m\u001B[43m.\u001B[49m\u001B[43mread\u001B[49m\u001B[43m(\u001B[49m\u001B[38;5;28;43mlen\u001B[39;49m\u001B[43m,\u001B[49m\u001B[43m \u001B[49m\u001B[43mbuffer\u001B[49m\u001B[43m)\u001B[49m\n\u001B[32m   1168\u001B[39m     \u001B[38;5;28;01melse\u001B[39;00m:\n\u001B[32m   1169\u001B[39m         \u001B[38;5;28;01mreturn\u001B[39;00m \u001B[38;5;28mself\u001B[39m._sslobj.read(\u001B[38;5;28mlen\u001B[39m)\n",
      "\u001B[31mKeyboardInterrupt\u001B[39m: "
     ]
    }
   ],
   "execution_count": 2
  }
 ],
 "metadata": {
  "kernelspec": {
   "display_name": "Python 3",
   "language": "python",
   "name": "python3"
  },
  "language_info": {
   "codemirror_mode": {
    "name": "ipython",
    "version": 2
   },
   "file_extension": ".py",
   "mimetype": "text/x-python",
   "name": "python",
   "nbconvert_exporter": "python",
   "pygments_lexer": "ipython2",
   "version": "2.7.6"
  }
 },
 "nbformat": 4,
 "nbformat_minor": 5
}
